{
 "cells": [
  {
   "cell_type": "markdown",
   "metadata": {},
   "source": [
    "# Predictigo\n",
    " A ML Model to apply regularized linear regression to past data to make future predictions"
   ]
  },
  {
   "cell_type": "code",
   "execution_count": 33,
   "metadata": {},
   "outputs": [],
   "source": [
    "import numpy as np\n",
    "import copy, math\n",
    "%matplotlib widget\n",
    "import matplotlib.pyplot as plt \n",
    "import pandas as pd\n",
    "np.set_printoptions(precision=2)"
   ]
  },
  {
   "cell_type": "markdown",
   "metadata": {},
   "source": [
    "Given test_data below:\n",
    "\n",
    "| Size (sqft) | Number of Bedrooms  | Number of floors | Age of  Home | Price (1000s dollars)  |   \n",
    "| ----------------| ------------------- |----------------- |--------------|-------------- |  \n",
    "| 2104            | 5                   | 1                | 45           | 460           |  \n",
    "| 1416            | 3                   | 2                | 40           | 232           |  \n",
    "| 852             | 2                   | 1                | 35           | 178           |  "
   ]
  },
  {
   "cell_type": "code",
   "execution_count": 21,
   "metadata": {},
   "outputs": [],
   "source": [
    "X_train = np.array([[2104, 5, 1, 45], [1416, 3, 2, 40], [852, 2, 1, 35]])\n",
    "y_train = np.array([460, 232, 178])\n",
    "X_features = ['size(sqft)', 'bedrooms', 'floors', 'age']\n",
    "\n",
    "b_init = 785.1811367994083\n",
    "w_init = np.array([ 0.39133535, 18.75376741, -53.36032453, -26.42131618])"
   ]
  },
  {
   "cell_type": "code",
   "execution_count": 18,
   "metadata": {},
   "outputs": [],
   "source": [
    "# fig,ax=plt.subplots(1, 4, figsize=(12, 3), sharey=True)\n",
    "# for i in range(len(ax)):\n",
    "#     ax[i].scatter(X_train[:,i],y_train)\n",
    "#     ax[i].set_xlabel(X_features[i])\n",
    "# ax[0].set_ylabel(\"Price (1000's)\")\n",
    "# #plt.show()"
   ]
  },
  {
   "cell_type": "markdown",
   "metadata": {},
   "source": [
    "#### Use the function below to compute the cost function"
   ]
  },
  {
   "cell_type": "code",
   "execution_count": 22,
   "metadata": {},
   "outputs": [],
   "source": [
    "def compute_cost(X, y, w, b): \n",
    "    \"\"\"\n",
    "    compute cost\n",
    "    Args:\n",
    "      X (ndarray (m,n)): Data, m examples with n features\n",
    "      y (ndarray (m,)) : target values\n",
    "      w (ndarray (n,)) : model parameters  \n",
    "      b (scalar)       : model parameter\n",
    "      \n",
    "    Returns:\n",
    "      cost (scalar): cost\n",
    "    \"\"\"\n",
    "    m = X.shape[0]\n",
    "    cost = 0.0\n",
    "    for i in range(m):                                \n",
    "        f_wb_i = np.dot(X[i], w) + b           \n",
    "        cost = cost + (f_wb_i - y[i])**2       \n",
    "    cost = cost / (2 * m)                      \n",
    "    return cost    "
   ]
  },
  {
   "cell_type": "code",
   "execution_count": 32,
   "metadata": {},
   "outputs": [
    {
     "name": "stdout",
     "output_type": "stream",
     "text": [
      "Cost at optimal w : 1.5578904428966628e-12\n"
     ]
    }
   ],
   "source": [
    "# Compute and display cost using our pre-chosen optimal parameters. \n",
    "cost = compute_cost(X_train, y_train, w_init, b_init)\n",
    "print(f'Cost at optimal w : {cost}')"
   ]
  },
  {
   "cell_type": "markdown",
   "metadata": {},
   "source": [
    "#### Then you use the function below to compute the gradient"
   ]
  },
  {
   "cell_type": "code",
   "execution_count": 30,
   "metadata": {},
   "outputs": [],
   "source": [
    "def compute_gradient(X, y, w, b):\n",
    "    \"\"\"\n",
    "    Computes the gradient for linear regression \n",
    "    Args:\n",
    "      X (ndarray (m,n)): Data, m examples with n features\n",
    "      y (ndarray (m,)) : target values\n",
    "      w (ndarray (n,)) : model parameters  \n",
    "      b (scalar)       : model parameter\n",
    "      \n",
    "    Returns:\n",
    "      dj_dw (ndarray (n,)): The gradient of the cost w.r.t. the parameters w. \n",
    "      dj_db (scalar):       The gradient of the cost w.r.t. the parameter b. \n",
    "    \"\"\"\n",
    "    m,n = X.shape\n",
    "    dj_dw = np.zeros((n, ))\n",
    "    dj_db = 0\n",
    "\n",
    "    for i in range(m):\n",
    "        err = (np.dot(X[i], w) + b) - y[i]\n",
    "        for j in range(n):\n",
    "            dj_dw[j] += err * X[i,j]\n",
    "        dj_db += err\n",
    "    \n",
    "    dj_dw /= m\n",
    "    dj_db /= m\n",
    "\n",
    "    return dj_db, dj_dw"
   ]
  },
  {
   "cell_type": "code",
   "execution_count": 31,
   "metadata": {},
   "outputs": [
    {
     "name": "stdout",
     "output_type": "stream",
     "text": [
      "dj_db at initial w,b: -1.6739251501955248e-06\n",
      "dj_dw at initial w,b: \n",
      " [-2.73e-03 -6.27e-06 -2.22e-06 -6.92e-05]\n"
     ]
    }
   ],
   "source": [
    "#Compute and display gradient \n",
    "tmp_dj_db, tmp_dj_dw = compute_gradient(X_train, y_train, w_init, b_init)\n",
    "print(f'dj_db at initial w,b: {tmp_dj_db}')\n",
    "print(f'dj_dw at initial w,b: \\n {tmp_dj_dw}')"
   ]
  },
  {
   "cell_type": "code",
   "execution_count": 34,
   "metadata": {},
   "outputs": [],
   "source": [
    "def gradient_descent(X, y, w_in, b_in, cost_function, gradient_function, alpha, num_iters):\n",
    "    \"\"\"\n",
    "    Performs batch gradient descent to learn w and b. Updates w and b by taking \n",
    "    num_iters gradient steps with learning rate alpha\n",
    "    \n",
    "    Args:\n",
    "      X (ndarray (m,n))   : Data, m examples with n features\n",
    "      y (ndarray (m,))    : target values\n",
    "      w_in (ndarray (n,)) : initial model parameters  \n",
    "      b_in (scalar)       : initial model parameter\n",
    "      cost_function       : function to compute cost\n",
    "      gradient_function   : function to compute the gradient\n",
    "      alpha (float)       : Learning rate\n",
    "      num_iters (int)     : number of iterations to run gradient descent\n",
    "      \n",
    "    Returns:\n",
    "      w (ndarray (n,)) : Updated values of parameters \n",
    "      b (scalar)       : Updated value of parameter \n",
    "      \"\"\"\n",
    "    \n",
    "    J_history = []\n",
    "    w = copy.deepcopy(w_in)\n",
    "    b = b_in\n",
    "\n",
    "    for i in range(num_iters):\n",
    "        \n",
    "      dj_db, dj_dw = gradient_function(X, y, w, b)\n",
    "\n",
    "      w = w - alpha * dj_dw\n",
    "      b = b - alpha * dj_db\n",
    "\n",
    "      if i < 100000:\n",
    "        J_history.append(cost_function(X, y, w, b))\n",
    "\n",
    "      # Print cost every at intervals 10 times or as many iterations if < 10\n",
    "      if i% math.ceil(num_iters / 10) == 0:\n",
    "          print(f\"Iteration {i:4d}: Cost {J_history[-1]:8.2f}   \")\n",
    "        \n",
    "    return w, b, J_history #return final w,b and J history for graphing"
   ]
  },
  {
   "cell_type": "code",
   "execution_count": 42,
   "metadata": {},
   "outputs": [
    {
     "name": "stdout",
     "output_type": "stream",
     "text": [
      "Iteration    0: Cost  2529.46   \n",
      "Iteration 2000: Cost   677.19   \n",
      "Iteration 4000: Cost   660.50   \n",
      "Iteration 6000: Cost   646.49   \n",
      "Iteration 8000: Cost   634.72   \n",
      "Iteration 10000: Cost   624.82   \n",
      "Iteration 12000: Cost   616.49   \n",
      "Iteration 14000: Cost   609.48   \n",
      "Iteration 16000: Cost   603.56   \n",
      "Iteration 18000: Cost   598.56   \n",
      "b,w found by gradient descent: -0.03,[ 0.23  0.06 -0.2  -0.95] \n",
      "prediction: 433.66, target value: 460\n",
      "prediction: 282.29, target value: 232\n",
      "prediction: 159.47, target value: 178\n"
     ]
    }
   ],
   "source": [
    "# initialize parameters\n",
    "initial_w = np.zeros_like(w_init)\n",
    "initial_b = 0.\n",
    "# some gradient descent settings\n",
    "iterations = 20000\n",
    "alpha = 5.0e-7\n",
    "# run gradient descent \n",
    "w_final, b_final, J_hist = gradient_descent(X_train, y_train, initial_w, initial_b,\n",
    "                                                    compute_cost, compute_gradient, \n",
    "                                                    alpha, iterations)\n",
    "print(f\"b,w found by gradient descent: {b_final:0.2f},{w_final} \")\n",
    "m,_ = X_train.shape\n",
    "for i in range(m):\n",
    "    print(f\"prediction: {np.dot(X_train[i], w_final) + b_final:0.2f}, target value: {y_train[i]}\")"
   ]
  },
  {
   "cell_type": "code",
   "execution_count": 37,
   "metadata": {},
   "outputs": [],
   "source": [
    "# # plot cost versus iteration  \n",
    "# fig, (ax1, ax2) = plt.subplots(1, 2, constrained_layout=True, figsize=(12, 4))\n",
    "# ax1.plot(J_hist)\n",
    "# ax2.plot(100 + np.arange(len(J_hist[100:])), J_hist[100:])\n",
    "# ax1.set_title(\"Cost vs. iteration\");  ax2.set_title(\"Cost vs. iteration (tail)\")\n",
    "# ax1.set_ylabel('Cost')             ;  ax2.set_ylabel('Cost') \n",
    "# ax1.set_xlabel('iteration step')   ;  ax2.set_xlabel('iteration step') \n",
    "# plt.show()"
   ]
  },
  {
   "cell_type": "code",
   "execution_count": 45,
   "metadata": {},
   "outputs": [],
   "source": [
    "def zscore_normalize_features(X):\n",
    "    \"\"\"\n",
    "    computes  X, zcore normalized by column\n",
    "    \n",
    "    Args:\n",
    "      X (ndarray (m,n))     : input data, m examples, n features\n",
    "      \n",
    "    Returns:\n",
    "      X_norm (ndarray (m,n)): input normalized by column\n",
    "      mu (ndarray (n,))     : mean of each feature\n",
    "      sigma (ndarray (n,))  : standard deviation of each feature\n",
    "    \"\"\"\n",
    "    # find the mean of each column/feature\n",
    "    mu     = np.mean(X, axis=0)                 # mu will have shape (n,)\n",
    "    # find the standard deviation of each column/feature\n",
    "    sigma  = np.std(X, axis=0)                  # sigma will have shape (n,)\n",
    "    # element-wise, subtract mu for that column from each example, divide by std for that column\n",
    "    X_norm = (X - mu) / sigma      \n",
    "\n",
    "    return (X_norm, mu, sigma)"
   ]
  },
  {
   "cell_type": "code",
   "execution_count": 46,
   "metadata": {},
   "outputs": [
    {
     "name": "stdout",
     "output_type": "stream",
     "text": [
      "X_mu = [1.46e+03 3.33e+00 1.33e+00 4.00e+01], \n",
      "X_sigma = [5.12e+02 1.25e+00 4.71e-01 4.08e+00]\n",
      "Peak to Peak range by column in Raw        X:[1252    3    1   10]\n",
      "Peak to Peak range by column in Normalized X:[2.45 2.41 2.12 2.45]\n"
     ]
    }
   ],
   "source": [
    "# normalize the original features\n",
    "X_norm, X_mu, X_sigma = zscore_normalize_features(X_train)\n",
    "print(f\"X_mu = {X_mu}, \\nX_sigma = {X_sigma}\")\n",
    "print(f\"Peak to Peak range by column in Raw        X:{np.ptp(X_train,axis=0)}\")   \n",
    "print(f\"Peak to Peak range by column in Normalized X:{np.ptp(X_norm,axis=0)}\")"
   ]
  },
  {
   "cell_type": "code",
   "execution_count": 50,
   "metadata": {},
   "outputs": [
    {
     "name": "stdout",
     "output_type": "stream",
     "text": [
      "Iteration    0: Cost 103221.99   \n",
      "Iteration  100: Cost     0.00   \n",
      "Iteration  200: Cost     0.00   \n",
      "Iteration  300: Cost     0.00   \n",
      "Iteration  400: Cost     0.00   \n",
      "Iteration  500: Cost     0.00   \n",
      "Iteration  600: Cost     0.00   \n",
      "Iteration  700: Cost     0.00   \n",
      "Iteration  800: Cost     0.00   \n",
      "Iteration  900: Cost     0.00   \n"
     ]
    },
    {
     "data": {
      "application/vnd.jupyter.widget-view+json": {
       "model_id": "fa38968e892049f48d8adc6614c0b3ba",
       "version_major": 2,
       "version_minor": 0
      },
      "image/png": "[encoded data removed]",
      "text/html": [
       "\n",
       "            <div style=\"display: inline-block;\">\n",
       "                <div class=\"jupyter-widgets widget-label\" style=\"text-align: center;\">\n",
       "                    Figure\n",
       "                </div>\n",
       "                <img src='data:image/png;base64,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' width=1200.0/>\n",
       "            </div>\n",
       "        "
      ],
      "text/plain": [
       "Canvas(toolbar=Toolbar(toolitems=[('Home', 'Reset original view', 'home', 'home'), ('Back', 'Back to previous …"
      ]
     },
     "metadata": {},
     "output_type": "display_data"
    }
   ],
   "source": [
    "w_norm, b_norm, hist = gradient_descent(X_norm, y_train, w_init, b_init, compute_cost, compute_gradient, 1.0e-1, 1000)\n",
    "\n",
    "#predict target using normalized features\n",
    "m = X_norm.shape[0]\n",
    "yp = np.zeros(m)\n",
    "for i in range(m):\n",
    "    yp[i] = np.dot(X_norm[i], w_norm) + b_norm\n",
    "\n",
    "    # plot predictions and targets versus original features    \n",
    "fig,ax=plt.subplots(1,4,figsize=(12, 3),sharey=True)\n",
    "for i in range(len(ax)):\n",
    "    ax[i].scatter(X_train[:,i],y_train, label = 'target')\n",
    "    ax[i].set_xlabel(X_features[i])\n",
    "    ax[i].scatter(X_train[:,i],yp,color='pink', label = 'predict')\n",
    "ax[0].set_ylabel(\"Price\"); ax[0].legend();\n",
    "fig.suptitle(\"target versus prediction using z-score normalized model\")\n",
    "plt.show()"
   ]
  },
  {
   "cell_type": "code",
   "execution_count": 51,
   "metadata": {},
   "outputs": [
    {
     "name": "stdout",
     "output_type": "stream",
     "text": [
      "[-0.5  -0.27 -0.71  0.  ]\n",
      " predicted price of a house with 1200 sqft, 3 bedrooms, 1 floor, 40 years old = $273246\n"
     ]
    }
   ],
   "source": [
    "x_house = np.array([1200, 3, 1, 40])\n",
    "x_house_norm = (x_house - X_mu) / X_sigma\n",
    "print(x_house_norm)\n",
    "x_house_predict = np.dot(x_house_norm, w_norm) + b_norm\n",
    "print(f\" predicted price of a house with 1200 sqft, 3 bedrooms, 1 floor, 40 years old = ${x_house_predict*1000:0.0f}\")"
   ]
  },
  {
   "cell_type": "code",
   "execution_count": null,
   "metadata": {},
   "outputs": [],
   "source": []
  }
 ],
 "metadata": {
  "kernelspec": {
   "display_name": "Python 3",
   "language": "python",
   "name": "python3"
  },
  "language_info": {
   "codemirror_mode": {
    "name": "ipython",
    "version": 3
   },
   "file_extension": ".py",
   "mimetype": "text/x-python",
   "name": "python",
   "nbconvert_exporter": "python",
   "pygments_lexer": "ipython3",
   "version": "3.11.5"
  }
 },
 "nbformat": 4,
 "nbformat_minor": 2
}
